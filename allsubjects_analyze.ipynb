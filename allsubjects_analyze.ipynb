{
 "cells": [
  {
   "cell_type": "raw",
   "metadata": {},
   "source": [
    "<script>\n",
    "  function code_toggle() {\n",
    "    if (code_shown){\n",
    "      $('div.input').hide('500');\n",
    "      $('#toggleButton').val('Show Code')\n",
    "    } else {\n",
    "      $('div.input').show('500');\n",
    "      $('#toggleButton').val('Hide Code')\n",
    "    }\n",
    "    code_shown = !code_shown\n",
    "  }\n",
    "\n",
    "  $( document ).ready(function(){\n",
    "    code_shown=false;\n",
    "    $('div.input').hide()\n",
    "  });\n",
    "</script>\n",
    "<form action=\"javascript:code_toggle()\"><input type=\"submit\" id=\"toggleButton\" value=\"Show Code\"></form>"
   ]
  },
  {
   "cell_type": "markdown",
   "metadata": {},
   "source": [
    "# Preliminary results for pilot behavioral study"
   ]
  },
  {
   "cell_type": "code",
   "execution_count": 1,
   "metadata": {
    "collapsed": false
   },
   "outputs": [
    {
     "name": "stderr",
     "output_type": "stream",
     "text": [
      "//anaconda/lib/python3.5/site-packages/statsmodels/compat/pandas.py:56: FutureWarning: The pandas.core.datetools module is deprecated and will be removed in a future version. Please use the pandas.tseries module instead.\n",
      "  from pandas.core import datetools\n"
     ]
    }
   ],
   "source": [
    "import os\n",
    "os.chdir('/Users/wass/Documents/code/python')\n",
    "import firstThird_game as ft\n",
    "import statsmodels.api as sm\n",
    "from importlib import reload\n",
    "import matplotlib.pyplot as plt\n",
    "import numpy as np\n",
    "%matplotlib inline\n",
    "ft.dir_setup('1st3rd_game/data_all')\n",
    "dfs = ft.import_bulk_csv('*.csv')\n",
    "# csv filenames were already cleaned"
   ]
  },
  {
   "cell_type": "code",
   "execution_count": 2,
   "metadata": {
    "collapsed": true
   },
   "outputs": [],
   "source": [
    "import scipy.stats as stats\n",
    "import pandas as pd"
   ]
  },
  {
   "cell_type": "markdown",
   "metadata": {},
   "source": [
    "Each original subject dataset has the following structure:"
   ]
  },
  {
   "cell_type": "code",
   "execution_count": 3,
   "metadata": {
    "collapsed": false
   },
   "outputs": [
    {
     "data": {
      "text/html": [
       "<div>\n",
       "<style>\n",
       "    .dataframe thead tr:only-child th {\n",
       "        text-align: right;\n",
       "    }\n",
       "\n",
       "    .dataframe thead th {\n",
       "        text-align: left;\n",
       "    }\n",
       "\n",
       "    .dataframe tbody tr th {\n",
       "        vertical-align: top;\n",
       "    }\n",
       "</style>\n",
       "<table border=\"1\" class=\"dataframe\">\n",
       "  <thead>\n",
       "    <tr style=\"text-align: right;\">\n",
       "      <th></th>\n",
       "      <th>harm</th>\n",
       "      <th>movieFile</th>\n",
       "      <th>color1</th>\n",
       "      <th>color3</th>\n",
       "      <th>color2</th>\n",
       "      <th>cardStim2</th>\n",
       "      <th>trialNo</th>\n",
       "      <th>cardStim1</th>\n",
       "      <th>scaleDescrip</th>\n",
       "      <th>trial_loop.thisRepN</th>\n",
       "      <th>...</th>\n",
       "      <th>postQ_start.keys</th>\n",
       "      <th>postQ_start.rt</th>\n",
       "      <th>postQ_resp.keys</th>\n",
       "      <th>postQ_resp.rt</th>\n",
       "      <th>date</th>\n",
       "      <th>frameRate</th>\n",
       "      <th>expName</th>\n",
       "      <th>session</th>\n",
       "      <th>participant</th>\n",
       "      <th>Unnamed: 32</th>\n",
       "    </tr>\n",
       "  </thead>\n",
       "  <tbody>\n",
       "    <tr>\n",
       "      <th>0</th>\n",
       "      <td>NaN</td>\n",
       "      <td>NaN</td>\n",
       "      <td>NaN</td>\n",
       "      <td>NaN</td>\n",
       "      <td>NaN</td>\n",
       "      <td>NaN</td>\n",
       "      <td>NaN</td>\n",
       "      <td>NaN</td>\n",
       "      <td>NaN</td>\n",
       "      <td>NaN</td>\n",
       "      <td>...</td>\n",
       "      <td>NaN</td>\n",
       "      <td>NaN</td>\n",
       "      <td>NaN</td>\n",
       "      <td>NaN</td>\n",
       "      <td>2016_Dec_07_1206</td>\n",
       "      <td>60.104093</td>\n",
       "      <td>1st3rd_game_accOnly</td>\n",
       "      <td>1</td>\n",
       "      <td>10</td>\n",
       "      <td>NaN</td>\n",
       "    </tr>\n",
       "    <tr>\n",
       "      <th>1</th>\n",
       "      <td>NaN</td>\n",
       "      <td>NaN</td>\n",
       "      <td>NaN</td>\n",
       "      <td>NaN</td>\n",
       "      <td>NaN</td>\n",
       "      <td>NaN</td>\n",
       "      <td>NaN</td>\n",
       "      <td>NaN</td>\n",
       "      <td>NaN</td>\n",
       "      <td>NaN</td>\n",
       "      <td>...</td>\n",
       "      <td>NaN</td>\n",
       "      <td>NaN</td>\n",
       "      <td>NaN</td>\n",
       "      <td>NaN</td>\n",
       "      <td>2016_Dec_07_1206</td>\n",
       "      <td>60.104093</td>\n",
       "      <td>1st3rd_game_accOnly</td>\n",
       "      <td>1</td>\n",
       "      <td>10</td>\n",
       "      <td>NaN</td>\n",
       "    </tr>\n",
       "    <tr>\n",
       "      <th>2</th>\n",
       "      <td>0.0</td>\n",
       "      <td>julia_neutral_1.mov</td>\n",
       "      <td>-1.0</td>\n",
       "      <td>-1.0</td>\n",
       "      <td>1.0</td>\n",
       "      <td>card2.png</td>\n",
       "      <td>0.0</td>\n",
       "      <td>card1.png</td>\n",
       "      <td>NaN</td>\n",
       "      <td>0.0</td>\n",
       "      <td>...</td>\n",
       "      <td>NaN</td>\n",
       "      <td>NaN</td>\n",
       "      <td>NaN</td>\n",
       "      <td>NaN</td>\n",
       "      <td>2016_Dec_07_1206</td>\n",
       "      <td>60.104093</td>\n",
       "      <td>1st3rd_game_accOnly</td>\n",
       "      <td>1</td>\n",
       "      <td>10</td>\n",
       "      <td>NaN</td>\n",
       "    </tr>\n",
       "    <tr>\n",
       "      <th>3</th>\n",
       "      <td>1.0</td>\n",
       "      <td>julia_harm_1.mov</td>\n",
       "      <td>1.0</td>\n",
       "      <td>-1.0</td>\n",
       "      <td>-1.0</td>\n",
       "      <td>card1.png</td>\n",
       "      <td>1.0</td>\n",
       "      <td>card2.png</td>\n",
       "      <td>NaN</td>\n",
       "      <td>0.0</td>\n",
       "      <td>...</td>\n",
       "      <td>NaN</td>\n",
       "      <td>NaN</td>\n",
       "      <td>NaN</td>\n",
       "      <td>NaN</td>\n",
       "      <td>2016_Dec_07_1206</td>\n",
       "      <td>60.104093</td>\n",
       "      <td>1st3rd_game_accOnly</td>\n",
       "      <td>1</td>\n",
       "      <td>10</td>\n",
       "      <td>NaN</td>\n",
       "    </tr>\n",
       "    <tr>\n",
       "      <th>4</th>\n",
       "      <td>0.0</td>\n",
       "      <td>julia_neutral_2.mov</td>\n",
       "      <td>-1.0</td>\n",
       "      <td>-1.0</td>\n",
       "      <td>1.0</td>\n",
       "      <td>card3.png</td>\n",
       "      <td>2.0</td>\n",
       "      <td>card1.png</td>\n",
       "      <td>NaN</td>\n",
       "      <td>0.0</td>\n",
       "      <td>...</td>\n",
       "      <td>NaN</td>\n",
       "      <td>NaN</td>\n",
       "      <td>NaN</td>\n",
       "      <td>NaN</td>\n",
       "      <td>2016_Dec_07_1206</td>\n",
       "      <td>60.104093</td>\n",
       "      <td>1st3rd_game_accOnly</td>\n",
       "      <td>1</td>\n",
       "      <td>10</td>\n",
       "      <td>NaN</td>\n",
       "    </tr>\n",
       "  </tbody>\n",
       "</table>\n",
       "<p>5 rows × 33 columns</p>\n",
       "</div>"
      ],
      "text/plain": [
       "   harm            movieFile  color1  color3  color2  cardStim2  trialNo  \\\n",
       "0   NaN                  NaN     NaN     NaN     NaN        NaN      NaN   \n",
       "1   NaN                  NaN     NaN     NaN     NaN        NaN      NaN   \n",
       "2   0.0  julia_neutral_1.mov    -1.0    -1.0     1.0  card2.png      0.0   \n",
       "3   1.0     julia_harm_1.mov     1.0    -1.0    -1.0  card1.png      1.0   \n",
       "4   0.0  julia_neutral_2.mov    -1.0    -1.0     1.0  card3.png      2.0   \n",
       "\n",
       "   cardStim1 scaleDescrip  trial_loop.thisRepN     ...       postQ_start.keys  \\\n",
       "0        NaN          NaN                  NaN     ...                    NaN   \n",
       "1        NaN          NaN                  NaN     ...                    NaN   \n",
       "2  card1.png          NaN                  0.0     ...                    NaN   \n",
       "3  card2.png          NaN                  0.0     ...                    NaN   \n",
       "4  card1.png          NaN                  0.0     ...                    NaN   \n",
       "\n",
       "   postQ_start.rt  postQ_resp.keys  postQ_resp.rt              date  \\\n",
       "0             NaN              NaN            NaN  2016_Dec_07_1206   \n",
       "1             NaN              NaN            NaN  2016_Dec_07_1206   \n",
       "2             NaN              NaN            NaN  2016_Dec_07_1206   \n",
       "3             NaN              NaN            NaN  2016_Dec_07_1206   \n",
       "4             NaN              NaN            NaN  2016_Dec_07_1206   \n",
       "\n",
       "   frameRate              expName session  participant  Unnamed: 32  \n",
       "0  60.104093  1st3rd_game_accOnly       1           10          NaN  \n",
       "1  60.104093  1st3rd_game_accOnly       1           10          NaN  \n",
       "2  60.104093  1st3rd_game_accOnly       1           10          NaN  \n",
       "3  60.104093  1st3rd_game_accOnly       1           10          NaN  \n",
       "4  60.104093  1st3rd_game_accOnly       1           10          NaN  \n",
       "\n",
       "[5 rows x 33 columns]"
      ]
     },
     "execution_count": 3,
     "metadata": {},
     "output_type": "execute_result"
    }
   ],
   "source": [
    "dfs[0].head()"
   ]
  },
  {
   "cell_type": "markdown",
   "metadata": {},
   "source": [
    "### Creating Group Column"
   ]
  },
  {
   "cell_type": "code",
   "execution_count": 4,
   "metadata": {
    "collapsed": false
   },
   "outputs": [
    {
     "name": "stdout",
     "output_type": "stream",
     "text": [
      "Initial N:  47\n"
     ]
    }
   ],
   "source": [
    "group_assignments = list([1 for x in range(25)])\n",
    "group_assignments_2 = list([3 for x in range(26,48)])\n",
    "group_assignments = group_assignments + group_assignments_2\n",
    "print('Initial N: ',len(group_assignments))"
   ]
  },
  {
   "cell_type": "markdown",
   "metadata": {},
   "source": [
    "### Excluding participants\n",
    "\n",
    "Participants who noticed the deception (N = 4) or who were accidentally shown the wrong game version due to experimenter error (N = 1) are excluded."
   ]
  },
  {
   "cell_type": "code",
   "execution_count": 5,
   "metadata": {
    "collapsed": false
   },
   "outputs": [
    {
     "name": "stdout",
     "output_type": "stream",
     "text": [
      "N after exclusion:  42\n"
     ]
    }
   ],
   "source": [
    "exclude_subs = [x-1 for x in [1,3,10,16,34]]\n",
    "keep_subs = list([x for x in range(47) if x not in exclude_subs])\n",
    "dfs = [dfs[x] for x in keep_subs]\n",
    "group_assignments = [group_assignments[x] for x in keep_subs]\n",
    "len(dfs)\n",
    "print('N after exclusion: ',len(group_assignments))"
   ]
  },
  {
   "cell_type": "markdown",
   "metadata": {},
   "source": [
    "## Manipulation checks: randomness/control/deception\n",
    "\n",
    "Manipulation-check questions include:\n",
    "* How much control did you feel you/the active player had over the outcome of the game?\n",
    "* Did you believe that the outcomes of the cards were random?\n",
    "* Did you believe that you were playing with a real person/that you were viewing a game played between two real participants?"
   ]
  },
  {
   "cell_type": "code",
   "execution_count": 6,
   "metadata": {
    "collapsed": false
   },
   "outputs": [],
   "source": [
    "has_cols = [x for x in dfs if 'scaleDescrip' in list(x)]\n",
    "groups_sm = [y for (x,y) in zip(dfs,group_assignments) if 'scaleDescrip' in list(x)]\n",
    "for x in range(len(has_cols)):\n",
    "    has_cols[x]['group'] = groups_sm[x]"
   ]
  },
  {
   "cell_type": "code",
   "execution_count": 7,
   "metadata": {
    "collapsed": false
   },
   "outputs": [],
   "source": [
    "# print(len(has_cols))\n",
    "# print(len(groups_sm))"
   ]
  },
  {
   "cell_type": "code",
   "execution_count": 8,
   "metadata": {
    "collapsed": false
   },
   "outputs": [],
   "source": [
    "# has_cols[0].head()"
   ]
  },
  {
   "cell_type": "code",
   "execution_count": 9,
   "metadata": {
    "collapsed": false
   },
   "outputs": [],
   "source": [
    "dfs_post = ft.combine_dfs(has_cols,['participant','scaleDescrip','postQ_resp.keys','group'])"
   ]
  },
  {
   "cell_type": "markdown",
   "metadata": {},
   "source": [
    "All subject-specific datasets combined into a single dataset with the following structure:"
   ]
  },
  {
   "cell_type": "code",
   "execution_count": 10,
   "metadata": {
    "collapsed": false
   },
   "outputs": [
    {
     "data": {
      "text/html": [
       "<div>\n",
       "<style>\n",
       "    .dataframe thead tr:only-child th {\n",
       "        text-align: right;\n",
       "    }\n",
       "\n",
       "    .dataframe thead th {\n",
       "        text-align: left;\n",
       "    }\n",
       "\n",
       "    .dataframe tbody tr th {\n",
       "        vertical-align: top;\n",
       "    }\n",
       "</style>\n",
       "<table border=\"1\" class=\"dataframe\">\n",
       "  <thead>\n",
       "    <tr style=\"text-align: right;\">\n",
       "      <th></th>\n",
       "      <th>participant</th>\n",
       "      <th>scaleDescrip</th>\n",
       "      <th>response</th>\n",
       "      <th>group</th>\n",
       "    </tr>\n",
       "  </thead>\n",
       "  <tbody>\n",
       "    <tr>\n",
       "      <th>0</th>\n",
       "      <td>1</td>\n",
       "      <td>How much control did you feel you had over the...</td>\n",
       "      <td>3.0</td>\n",
       "      <td>1</td>\n",
       "    </tr>\n",
       "    <tr>\n",
       "      <th>1</th>\n",
       "      <td>1</td>\n",
       "      <td>Did you believe that the outcomes of the cards...</td>\n",
       "      <td>3.0</td>\n",
       "      <td>1</td>\n",
       "    </tr>\n",
       "    <tr>\n",
       "      <th>2</th>\n",
       "      <td>1</td>\n",
       "      <td>Did you believe that you were playing with a r...</td>\n",
       "      <td>1.0</td>\n",
       "      <td>1</td>\n",
       "    </tr>\n",
       "    <tr>\n",
       "      <th>3</th>\n",
       "      <td>2</td>\n",
       "      <td>How much control did you feel you had over the...</td>\n",
       "      <td>1.0</td>\n",
       "      <td>1</td>\n",
       "    </tr>\n",
       "    <tr>\n",
       "      <th>4</th>\n",
       "      <td>2</td>\n",
       "      <td>Did you believe that you were playing with a r...</td>\n",
       "      <td>2.0</td>\n",
       "      <td>1</td>\n",
       "    </tr>\n",
       "  </tbody>\n",
       "</table>\n",
       "</div>"
      ],
      "text/plain": [
       "   participant                                       scaleDescrip  response  \\\n",
       "0            1  How much control did you feel you had over the...       3.0   \n",
       "1            1  Did you believe that the outcomes of the cards...       3.0   \n",
       "2            1  Did you believe that you were playing with a r...       1.0   \n",
       "3            2  How much control did you feel you had over the...       1.0   \n",
       "4            2  Did you believe that you were playing with a r...       2.0   \n",
       "\n",
       "   group  \n",
       "0      1  \n",
       "1      1  \n",
       "2      1  \n",
       "3      1  \n",
       "4      1  "
      ]
     },
     "execution_count": 10,
     "metadata": {},
     "output_type": "execute_result"
    }
   ],
   "source": [
    "dfs_post = dfs_post.rename(columns={'postQ_resp.keys':'response'})\n",
    "dfs_post.head()"
   ]
  },
  {
   "cell_type": "code",
   "execution_count": 11,
   "metadata": {
    "collapsed": false
   },
   "outputs": [],
   "source": [
    "dfs_piv=dfs_post.pivot_table(index=['participant','group'],columns='scaleDescrip',values='response')\n",
    "dfs_piv.head()\n",
    "dfs_piv.columns = ['randomness','real_person_1p','real_person_3p','control_1p','control_3p']"
   ]
  },
  {
   "cell_type": "code",
   "execution_count": 12,
   "metadata": {
    "collapsed": false
   },
   "outputs": [],
   "source": [
    "# dfs_piv.head()"
   ]
  },
  {
   "cell_type": "code",
   "execution_count": 13,
   "metadata": {
    "collapsed": false
   },
   "outputs": [],
   "source": [
    "dfs_piv['real_person']=dfs_piv[['real_person_1p','real_person_3p']].sum(axis=1)"
   ]
  },
  {
   "cell_type": "code",
   "execution_count": 14,
   "metadata": {
    "collapsed": true
   },
   "outputs": [],
   "source": [
    "dfs_piv['control']=dfs_piv[['control_1p','control_3p']].sum(axis=1)"
   ]
  },
  {
   "cell_type": "code",
   "execution_count": 15,
   "metadata": {
    "collapsed": false
   },
   "outputs": [],
   "source": [
    "# dfs_piv.head()\n",
    "dfs_piv.to_csv('../data_manipulation_vars.csv')"
   ]
  },
  {
   "cell_type": "markdown",
   "metadata": {},
   "source": [
    "### Plotting perceived randomness/control/deception \n",
    "\n",
    "Combined dataset, all subjects:"
   ]
  },
  {
   "cell_type": "code",
   "execution_count": 16,
   "metadata": {
    "collapsed": false
   },
   "outputs": [
    {
     "data": {
      "text/plain": [
       "{'boxes': [<matplotlib.lines.Line2D at 0x1172a8940>],\n",
       " 'caps': [<matplotlib.lines.Line2D at 0x1172aec18>,\n",
       "  <matplotlib.lines.Line2D at 0x1172b4b00>],\n",
       " 'fliers': [<matplotlib.lines.Line2D at 0x1172b8b70>],\n",
       " 'means': [],\n",
       " 'medians': [<matplotlib.lines.Line2D at 0x1172b4c88>],\n",
       " 'whiskers': [<matplotlib.lines.Line2D at 0x1172a8be0>,\n",
       "  <matplotlib.lines.Line2D at 0x1171fc0f0>]}"
      ]
     },
     "execution_count": 16,
     "metadata": {},
     "output_type": "execute_result"
    },
    {
     "data": {
      "image/png": "[encoded data removed]",
      "text/plain": [
       "<matplotlib.figure.Figure at 0x113dfdac8>"
      ]
     },
     "metadata": {},
     "output_type": "display_data"
    }
   ],
   "source": [
    "fig, axs = plt.subplots(1,3)\n",
    "dfs_piv.boxplot(column='randomness',ax=axs[0],return_type='dict')\n",
    "dfs_piv.boxplot(column='real_person',ax=axs[1],return_type='dict')\n",
    "dfs_piv.boxplot(column='control',ax=axs[2],return_type='dict')"
   ]
  },
  {
   "cell_type": "code",
   "execution_count": 17,
   "metadata": {
    "collapsed": false
   },
   "outputs": [],
   "source": [
    "dfs_piv=dfs_piv.reset_index(level=['group'])"
   ]
  },
  {
   "cell_type": "markdown",
   "metadata": {},
   "source": [
    "Subjects in 1st-person condition only:"
   ]
  },
  {
   "cell_type": "code",
   "execution_count": 18,
   "metadata": {
    "collapsed": false
   },
   "outputs": [
    {
     "data": {
      "text/plain": [
       "{'boxes': [<matplotlib.lines.Line2D at 0x1175df550>],\n",
       " 'caps': [<matplotlib.lines.Line2D at 0x11770e940>,\n",
       "  <matplotlib.lines.Line2D at 0x11770eac8>],\n",
       " 'fliers': [<matplotlib.lines.Line2D at 0x117715b38>],\n",
       " 'means': [],\n",
       " 'medians': [<matplotlib.lines.Line2D at 0x117715320>],\n",
       " 'whiskers': [<matplotlib.lines.Line2D at 0x1177099b0>,\n",
       "  <matplotlib.lines.Line2D at 0x117709b38>]}"
      ]
     },
     "execution_count": 18,
     "metadata": {},
     "output_type": "execute_result"
    },
    {
     "data": {
      "image/png": "[encoded data removed]",
      "text/plain": [
       "<matplotlib.figure.Figure at 0x113dfd630>"
      ]
     },
     "metadata": {},
     "output_type": "display_data"
    }
   ],
   "source": [
    "dfs_piv_1 = dfs_piv[dfs_piv['group']==1]\n",
    "fig, axs = plt.subplots(1,3)\n",
    "dfs_piv_1.boxplot(column='randomness',ax=axs[0],return_type='dict')\n",
    "dfs_piv_1.boxplot(column='real_person',ax=axs[1],return_type='dict')\n",
    "dfs_piv_1.boxplot(column='control',ax=axs[2],return_type='dict')"
   ]
  },
  {
   "cell_type": "markdown",
   "metadata": {},
   "source": [
    "Subjects in 3rd-person condition only:"
   ]
  },
  {
   "cell_type": "code",
   "execution_count": 19,
   "metadata": {
    "collapsed": false
   },
   "outputs": [
    {
     "data": {
      "text/plain": [
       "{'boxes': [<matplotlib.lines.Line2D at 0x117a08e10>],\n",
       " 'caps': [<matplotlib.lines.Line2D at 0x117a146d8>,\n",
       "  <matplotlib.lines.Line2D at 0x117a14ef0>],\n",
       " 'fliers': [<matplotlib.lines.Line2D at 0x117a19f60>],\n",
       " 'means': [],\n",
       " 'medians': [<matplotlib.lines.Line2D at 0x117a190b8>],\n",
       " 'whiskers': [<matplotlib.lines.Line2D at 0x117a08f98>,\n",
       "  <matplotlib.lines.Line2D at 0x117a0ff60>]}"
      ]
     },
     "execution_count": 19,
     "metadata": {},
     "output_type": "execute_result"
    },
    {
     "data": {
      "image/png": "[encoded data removed]",
      "text/plain": [
       "<matplotlib.figure.Figure at 0x1173cea20>"
      ]
     },
     "metadata": {},
     "output_type": "display_data"
    }
   ],
   "source": [
    "dfs_piv_3 = dfs_piv[dfs_piv['group']==3]\n",
    "fig, axs = plt.subplots(1,3)\n",
    "dfs_piv_3.boxplot(column='randomness',ax=axs[0],return_type='dict')\n",
    "dfs_piv_3.boxplot(column='real_person',ax=axs[1],return_type='dict')\n",
    "dfs_piv_3.boxplot(column='control',ax=axs[2],return_type='dict')"
   ]
  },
  {
   "cell_type": "markdown",
   "metadata": {},
   "source": [
    "### Do the manipulation-check variables differ by perspective?"
   ]
  },
  {
   "cell_type": "markdown",
   "metadata": {},
   "source": [
    "#### Differences in perceived randomness"
   ]
  },
  {
   "cell_type": "code",
   "execution_count": 20,
   "metadata": {
    "collapsed": false
   },
   "outputs": [
    {
     "data": {
      "text/plain": [
       "Ttest_indResult(statistic=-1.1996280421032575, pvalue=0.23882621893366332)"
      ]
     },
     "execution_count": 20,
     "metadata": {},
     "output_type": "execute_result"
    }
   ],
   "source": [
    "stats.ttest_ind(dfs_piv_1['randomness'],dfs_piv_3['randomness'])"
   ]
  },
  {
   "cell_type": "markdown",
   "metadata": {},
   "source": [
    "#### Differences in perceived control"
   ]
  },
  {
   "cell_type": "code",
   "execution_count": 21,
   "metadata": {
    "collapsed": false
   },
   "outputs": [
    {
     "data": {
      "text/plain": [
       "Ttest_indResult(statistic=-0.60236900073363175, pvalue=0.55104556803497118)"
      ]
     },
     "execution_count": 21,
     "metadata": {},
     "output_type": "execute_result"
    }
   ],
   "source": [
    "stats.ttest_ind(dfs_piv_1['control'],dfs_piv_3['control'])"
   ]
  },
  {
   "cell_type": "markdown",
   "metadata": {},
   "source": [
    "#### Differences in sense that partner/other player is real"
   ]
  },
  {
   "cell_type": "code",
   "execution_count": 22,
   "metadata": {
    "collapsed": false
   },
   "outputs": [
    {
     "data": {
      "text/plain": [
       "Ttest_indResult(statistic=-0.49852363531324395, pvalue=0.62142171330663731)"
      ]
     },
     "execution_count": 22,
     "metadata": {},
     "output_type": "execute_result"
    }
   ],
   "source": [
    "stats.ttest_ind(dfs_piv_1['real_person'],dfs_piv_3['real_person'])"
   ]
  },
  {
   "cell_type": "markdown",
   "metadata": {},
   "source": [
    "Overall, there were no significant cross-group differences in ratings for the three control variables.\n",
    "\n",
    "\n",
    "Note that due to technical error, not all participants in the 3rd-person condition saw the manipulation-check questions."
   ]
  },
  {
   "cell_type": "markdown",
   "metadata": {},
   "source": [
    "## Modeling wrongness judgments"
   ]
  },
  {
   "cell_type": "markdown",
   "metadata": {},
   "source": [
    "## model: effect of harm versus no harm on wrongness judgments\n",
    "\n",
    "\"Harm\" trials were those in which a video of the passive player experiencing a noise blast was shown. \"No harm\" trials featured a video of a neutral response."
   ]
  },
  {
   "cell_type": "code",
   "execution_count": 23,
   "metadata": {
    "collapsed": false
   },
   "outputs": [],
   "source": [
    "for x in range(len(dfs)):\n",
    "    dfs[x]['group']=group_assignments[x]"
   ]
  },
  {
   "cell_type": "code",
   "execution_count": 24,
   "metadata": {
    "collapsed": false
   },
   "outputs": [
    {
     "data": {
      "text/html": [
       "<div>\n",
       "<style>\n",
       "    .dataframe thead tr:only-child th {\n",
       "        text-align: right;\n",
       "    }\n",
       "\n",
       "    .dataframe thead th {\n",
       "        text-align: left;\n",
       "    }\n",
       "\n",
       "    .dataframe tbody tr th {\n",
       "        vertical-align: top;\n",
       "    }\n",
       "</style>\n",
       "<table border=\"1\" class=\"dataframe\">\n",
       "  <thead>\n",
       "    <tr style=\"text-align: right;\">\n",
       "      <th></th>\n",
       "      <th>participant</th>\n",
       "      <th>group</th>\n",
       "      <th>harm</th>\n",
       "      <th>wrongness</th>\n",
       "    </tr>\n",
       "  </thead>\n",
       "  <tbody>\n",
       "    <tr>\n",
       "      <th>0</th>\n",
       "      <td>1</td>\n",
       "      <td>1</td>\n",
       "      <td>0</td>\n",
       "      <td>2.0</td>\n",
       "    </tr>\n",
       "    <tr>\n",
       "      <th>1</th>\n",
       "      <td>1</td>\n",
       "      <td>1</td>\n",
       "      <td>1</td>\n",
       "      <td>4.0</td>\n",
       "    </tr>\n",
       "    <tr>\n",
       "      <th>2</th>\n",
       "      <td>1</td>\n",
       "      <td>1</td>\n",
       "      <td>0</td>\n",
       "      <td>1.0</td>\n",
       "    </tr>\n",
       "    <tr>\n",
       "      <th>3</th>\n",
       "      <td>1</td>\n",
       "      <td>1</td>\n",
       "      <td>1</td>\n",
       "      <td>5.0</td>\n",
       "    </tr>\n",
       "    <tr>\n",
       "      <th>4</th>\n",
       "      <td>1</td>\n",
       "      <td>1</td>\n",
       "      <td>0</td>\n",
       "      <td>1.0</td>\n",
       "    </tr>\n",
       "  </tbody>\n",
       "</table>\n",
       "</div>"
      ],
      "text/plain": [
       "   participant  group  harm  wrongness\n",
       "0            1      1     0        2.0\n",
       "1            1      1     1        4.0\n",
       "2            1      1     0        1.0\n",
       "3            1      1     1        5.0\n",
       "4            1      1     0        1.0"
      ]
     },
     "execution_count": 24,
     "metadata": {},
     "output_type": "execute_result"
    }
   ],
   "source": [
    "dfs_wrong = ft.combine_dfs(dfs,['participant','group','harm','wrongness.response'])\n",
    "dfs_wrong = dfs_wrong.rename(columns={'wrongness.response':'wrongness'})\n",
    "dfs_wrong.harm = dfs_wrong.harm.astype(int)\n",
    "dfs_wrong.head()"
   ]
  },
  {
   "cell_type": "markdown",
   "metadata": {},
   "source": [
    "Modeling the effect of harm (no harm versus harm) on wrongness"
   ]
  },
  {
   "cell_type": "code",
   "execution_count": 25,
   "metadata": {
    "collapsed": true
   },
   "outputs": [],
   "source": [
    "dfs_wrong.to_csv('../data_wrongness.csv')"
   ]
  },
  {
   "cell_type": "code",
   "execution_count": 25,
   "metadata": {
    "collapsed": false
   },
   "outputs": [
    {
     "name": "stdout",
     "output_type": "stream",
     "text": [
      "         Mixed Linear Model Regression Results\n",
      "========================================================\n",
      "Model:            MixedLM Dependent Variable: wrongness \n",
      "No. Observations: 1008    Method:             REML      \n",
      "No. Groups:       42      Scale:              1.9689    \n",
      "Min. group size:  24      Likelihood:         -1814.8787\n",
      "Max. group size:  24      Converged:          Yes       \n",
      "Mean group size:  24.0                                  \n",
      "---------------------------------------------------------\n",
      "           Coef.  Std.Err.    z     P>|z|  [0.025  0.975]\n",
      "---------------------------------------------------------\n",
      "Intercept  1.421     0.126  11.233  0.000   1.173   1.669\n",
      "harm       3.508     0.088  39.686  0.000   3.335   3.681\n",
      "groups RE  0.508     0.095                               \n",
      "========================================================\n",
      "\n"
     ]
    }
   ],
   "source": [
    "wrongness_model = sm.MixedLM.from_formula(\"wrongness ~ harm\",dfs_wrong,groups=dfs_wrong['participant'])\n",
    "wrongness_result = wrongness_model.fit()\n",
    "print(wrongness_result.summary())"
   ]
  },
  {
   "cell_type": "markdown",
   "metadata": {},
   "source": [
    "Modeling the interaction effect of harm x group (1st- versus 3rd-person perspective) on wrongness"
   ]
  },
  {
   "cell_type": "code",
   "execution_count": 26,
   "metadata": {
    "collapsed": false
   },
   "outputs": [
    {
     "name": "stdout",
     "output_type": "stream",
     "text": [
      "         Mixed Linear Model Regression Results\n",
      "========================================================\n",
      "Model:            MixedLM Dependent Variable: wrongness \n",
      "No. Observations: 1008    Method:             REML      \n",
      "No. Groups:       42      Scale:              1.9419    \n",
      "Min. group size:  24      Likelihood:         -1808.3638\n",
      "Max. group size:  24      Converged:          Yes       \n",
      "Mean group size:  24.0                                  \n",
      "--------------------------------------------------------\n",
      "               Coef. Std.Err.   z    P>|z| [0.025 0.975]\n",
      "--------------------------------------------------------\n",
      "Intercept      1.278    0.273  4.681 0.000  0.743  1.813\n",
      "harm           2.841    0.196 14.475 0.000  2.457  3.226\n",
      "group          0.071    0.122  0.585 0.558 -0.168  0.311\n",
      "harm:group     0.333    0.088  3.797 0.000  0.161  0.505\n",
      "groups RE      0.464    0.089                           \n",
      "========================================================\n",
      "\n"
     ]
    }
   ],
   "source": [
    "wrongness_model = sm.MixedLM.from_formula(\"wrongness ~ harm*group\",dfs_wrong,groups=dfs_wrong['participant'])\n",
    "wrongness_result = wrongness_model.fit()\n",
    "print(wrongness_result.summary())"
   ]
  },
  {
   "cell_type": "code",
   "execution_count": 27,
   "metadata": {
    "collapsed": false
   },
   "outputs": [],
   "source": [
    "interaction_gp = dfs_wrong.groupby(by=['group','harm'])"
   ]
  },
  {
   "cell_type": "code",
   "execution_count": 29,
   "metadata": {
    "collapsed": false
   },
   "outputs": [
    {
     "name": "stdout",
     "output_type": "stream",
     "text": [
      "Mean wrongness ratings by harm/group\n",
      " harm          0         1\n",
      "group                    \n",
      "1      1.349206  4.523810\n",
      "3      1.492063  5.333333\n"
     ]
    }
   ],
   "source": [
    "int_unstack = interaction_gp['wrongness'].aggregate(np.mean).unstack()\n",
    "print('Mean wrongness ratings by harm/group\\n',int_unstack)"
   ]
  },
  {
   "cell_type": "code",
   "execution_count": 120,
   "metadata": {
    "collapsed": false
   },
   "outputs": [
    {
     "data": {
      "image/png": "[encoded data removed]",
      "text/plain": [
       "<matplotlib.figure.Figure at 0x11dd40240>"
      ]
     },
     "metadata": {},
     "output_type": "display_data"
    }
   ],
   "source": [
    "int_unstack.plot(kind='bar',title='Wrongness By Harm/Group')\n",
    "plt.ylabel('wrongness')\n",
    "plt.show()"
   ]
  },
  {
   "cell_type": "code",
   "execution_count": null,
   "metadata": {
    "collapsed": true
   },
   "outputs": [],
   "source": []
  }
 ],
 "metadata": {
  "anaconda-cloud": {},
  "kernelspec": {
   "display_name": "Python [conda root]",
   "language": "python",
   "name": "conda-root-py"
  },
  "language_info": {
   "codemirror_mode": {
    "name": "ipython",
    "version": 3
   },
   "file_extension": ".py",
   "mimetype": "text/x-python",
   "name": "python",
   "nbconvert_exporter": "python",
   "pygments_lexer": "ipython3",
   "version": "3.5.2"
  }
 },
 "nbformat": 4,
 "nbformat_minor": 1
}
